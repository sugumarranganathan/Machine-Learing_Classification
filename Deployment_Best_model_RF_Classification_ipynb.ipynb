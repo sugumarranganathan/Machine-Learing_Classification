{
  "nbformat": 4,
  "nbformat_minor": 0,
  "metadata": {
    "colab": {
      "provenance": []
    },
    "kernelspec": {
      "name": "python3",
      "display_name": "Python 3"
    },
    "language_info": {
      "name": "python"
    }
  },
  "cells": [
    {
      "cell_type": "code",
      "execution_count": 1,
      "metadata": {
        "colab": {
          "base_uri": "https://localhost:8080/"
        },
        "id": "A0rcAB3GzEeQ",
        "outputId": "043bf901-b9f1-459e-aa58-cd50d94d9b46"
      },
      "outputs": [
        {
          "output_type": "stream",
          "name": "stdout",
          "text": [
            "Drive already mounted at /content/drive; to attempt to forcibly remount, call drive.mount(\"/content/drive\", force_remount=True).\n"
          ]
        }
      ],
      "source": [
        "from google.colab import drive\n",
        "drive.mount('/content/drive')"
      ]
    },
    {
      "cell_type": "code",
      "source": [
        "\n",
        "%cd /content/drive/MyDrive/Colab Notebooks"
      ],
      "metadata": {
        "colab": {
          "base_uri": "https://localhost:8080/"
        },
        "id": "_1f974GWzTaa",
        "outputId": "9ce7e983-ab96-47e5-8d81-37caa500a29c"
      },
      "execution_count": 2,
      "outputs": [
        {
          "output_type": "stream",
          "name": "stdout",
          "text": [
            "/content/drive/MyDrive/Colab Notebooks\n"
          ]
        }
      ]
    },
    {
      "cell_type": "code",
      "source": [
        "import pickle\n",
        "filename = 'finalized_model_random_forest.sav'\n",
        "# Save the trained model instance, not the class\n",
        "pickle.dump('RandomForestClassifier', open(filename, 'wb'))"
      ],
      "metadata": {
        "id": "c2lBkLGRzXFZ"
      },
      "execution_count": 7,
      "outputs": []
    },
    {
      "cell_type": "code",
      "metadata": {
        "id": "53f16f0a"
      },
      "source": [
        "from sklearn.ensemble import RandomForestClassifier\n",
        "import pickle\n",
        "import numpy as np\n",
        "\n",
        "# Create a dummy RandomForestClassifier instance\n",
        "dummy_model = RandomForestClassifier()\n",
        "\n",
        "# Create dummy training data (replace with your actual data)\n",
        "X_train = np.array([[25, 150, 0], [30, 160, 1], [35, 170, 0], [40, 180, 1], [45, 190, 0]])\n",
        "y_train = np.array([0, 1, 0, 1, 0])\n",
        "\n",
        "# Train the dummy model\n",
        "dummy_model.fit(X_train, y_train)\n",
        "\n",
        "filename = 'finalized_model_random_forest.sav'\n",
        "\n",
        "pickle.dump(dummy_model, open(filename, 'wb'))\n"
      ],
      "execution_count": 19,
      "outputs": []
    },
    {
      "cell_type": "code",
      "metadata": {
        "colab": {
          "base_uri": "https://localhost:8080/"
        },
        "id": "033104b7",
        "outputId": "23b37532-7cd0-406a-b850-010b5be8efe9"
      },
      "source": [
        "loaded_model = pickle.load(open('finalized_model_random_forest.sav', 'rb'))\n",
        "age_input = float(input(\"Age:\"))\n",
        "salary_input = float(input(\"BMI:\"))\n",
        "sex_male_input = int(input(\"Sex Male (0 or 1):\"))\n",
        "\n",
        "result = loaded_model.predict([[age_input, salary_input, sex_male_input]])\n",
        "print(result)"
      ],
      "execution_count": 20,
      "outputs": [
        {
          "output_type": "stream",
          "name": "stdout",
          "text": [
            "Age:25\n",
            "BMI:150\n",
            "Sex Male (0 or 1):0\n",
            "[55]\n"
          ]
        }
      ]
    },
    {
      "cell_type": "code",
      "source": [
        "result"
      ],
      "metadata": {
        "colab": {
          "base_uri": "https://localhost:8080/"
        },
        "id": "XUGaiHHL00mJ",
        "outputId": "d7dc691d-b9bd-4c68-ca2c-b991c3efcac6"
      },
      "execution_count": 18,
      "outputs": [
        {
          "output_type": "execute_result",
          "data": {
            "text/plain": [
              "array([1])"
            ]
          },
          "metadata": {},
          "execution_count": 18
        }
      ]
    }
  ]
}
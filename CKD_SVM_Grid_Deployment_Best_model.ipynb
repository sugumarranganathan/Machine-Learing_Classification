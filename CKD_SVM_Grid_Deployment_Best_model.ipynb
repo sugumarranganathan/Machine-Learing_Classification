{
  "nbformat": 4,
  "nbformat_minor": 0,
  "metadata": {
    "colab": {
      "provenance": []
    },
    "kernelspec": {
      "name": "python3",
      "display_name": "Python 3"
    },
    "language_info": {
      "name": "python"
    }
  },
  "cells": [
    {
      "cell_type": "code",
      "execution_count": 1,
      "metadata": {
        "id": "QyEz_n6VsUug"
      },
      "outputs": [],
      "source": [
        "import pandas as pd\n",
        "import numpy as np\n",
        "import matplotlib.pyplot as plt\n",
        "\n"
      ]
    },
    {
      "cell_type": "code",
      "source": [
        "from google.colab import drive\n",
        "drive.mount('/content/drive')"
      ],
      "metadata": {
        "colab": {
          "base_uri": "https://localhost:8080/"
        },
        "id": "0qHnaf0lshtj",
        "outputId": "5856c29c-7002-4302-da5e-90626f928c79"
      },
      "execution_count": 2,
      "outputs": [
        {
          "output_type": "stream",
          "name": "stdout",
          "text": [
            "Mounted at /content/drive\n"
          ]
        }
      ]
    },
    {
      "cell_type": "code",
      "source": [
        "%cd /content/drive/MyDrive/Colab Notebooks"
      ],
      "metadata": {
        "colab": {
          "base_uri": "https://localhost:8080/"
        },
        "id": "vicpuAR8spka",
        "outputId": "302baf34-fe7b-43ea-9243-9f49f464ae40"
      },
      "execution_count": 3,
      "outputs": [
        {
          "output_type": "stream",
          "name": "stdout",
          "text": [
            "/content/drive/MyDrive/Colab Notebooks\n"
          ]
        }
      ]
    },
    {
      "cell_type": "code",
      "source": [
        "import pickle"
      ],
      "metadata": {
        "id": "9acVVXMYswU8"
      },
      "execution_count": 4,
      "outputs": []
    },
    {
      "cell_type": "code",
      "source": [
        "sc = pickle.load(open('svm_sc.sav', 'rb'))"
      ],
      "metadata": {
        "id": "5ic1uoHBs1lE"
      },
      "execution_count": 5,
      "outputs": []
    },
    {
      "cell_type": "code",
      "source": [
        "preinput=sc.transform([[3,76.45994832,0,2,0,1,1,0,0,148.1126761,22,0.7,137.528754,4.62724359,10.7,34,12300,4.705597015,0,0,0,1,1,0,0\n",
        ",1,1]])\n",
        "preinput"
      ],
      "metadata": {
        "colab": {
          "base_uri": "https://localhost:8080/"
        },
        "id": "qwfxo3U5s3oy",
        "outputId": "5c146757-d3d8-452f-f619-9cf86d29db99"
      },
      "execution_count": 6,
      "outputs": [
        {
          "output_type": "stream",
          "name": "stderr",
          "text": [
            "/usr/local/lib/python3.12/dist-packages/sklearn/utils/validation.py:2739: UserWarning: X does not have valid feature names, but StandardScaler was fitted with feature names\n",
            "  warnings.warn(\n"
          ]
        },
        {
          "output_type": "execute_result",
          "data": {
            "text/plain": [
              "array([[-3.00463205e+00, -1.15074630e-02, -6.83842759e-01,\n",
              "         1.65360436e+00, -1.96101988e+00, -1.12118037e+00,\n",
              "        -3.70983846e-01, -1.30631566e+01, -2.05626670e+00,\n",
              "         5.01640246e+01, -2.09252295e+00, -3.46464565e+00,\n",
              "         1.62759313e+02,  1.11750329e+01,  2.49066053e+01,\n",
              "         9.02384980e+01,  9.05692619e+04,  1.13515023e+01,\n",
              "        -1.95866374e+00, -3.42997170e-01, -2.35702260e-01,\n",
              "         1.35269628e+00,  1.35269628e+00, -2.92770022e-01,\n",
              "        -1.93649167e+00,  1.91485422e+00,  2.24620893e+00]])"
            ]
          },
          "metadata": {},
          "execution_count": 6
        }
      ]
    },
    {
      "cell_type": "code",
      "source": [
        "preinput"
      ],
      "metadata": {
        "colab": {
          "base_uri": "https://localhost:8080/"
        },
        "id": "JQMxykHotTUx",
        "outputId": "31473787-4ba4-464b-88ef-097c96e0b68f"
      },
      "execution_count": 9,
      "outputs": [
        {
          "output_type": "execute_result",
          "data": {
            "text/plain": [
              "array([[-3.00463205e+00, -1.15074630e-02, -6.83842759e-01,\n",
              "         1.65360436e+00, -1.96101988e+00, -1.12118037e+00,\n",
              "        -3.70983846e-01, -1.30631566e+01, -2.05626670e+00,\n",
              "         5.01640246e+01, -2.09252295e+00, -3.46464565e+00,\n",
              "         1.62759313e+02,  1.11750329e+01,  2.49066053e+01,\n",
              "         9.02384980e+01,  9.05692619e+04,  1.13515023e+01,\n",
              "        -1.95866374e+00, -3.42997170e-01, -2.35702260e-01,\n",
              "         1.35269628e+00,  1.35269628e+00, -2.92770022e-01,\n",
              "        -1.93649167e+00,  1.91485422e+00,  2.24620893e+00]])"
            ]
          },
          "metadata": {},
          "execution_count": 9
        }
      ]
    },
    {
      "cell_type": "code",
      "source": [
        "loaded_model = pickle.load(open('svm_Grid.sav', 'rb'))"
      ],
      "metadata": {
        "id": "9BJPDpKwuDAK"
      },
      "execution_count": 15,
      "outputs": []
    },
    {
      "cell_type": "code",
      "source": [
        "result = loaded_model.predict(preinput)"
      ],
      "metadata": {
        "id": "0UtKWvmEtZdT"
      },
      "execution_count": 16,
      "outputs": []
    },
    {
      "cell_type": "code",
      "source": [
        "result"
      ],
      "metadata": {
        "colab": {
          "base_uri": "https://localhost:8080/"
        },
        "id": "SAP5au8-u4hM",
        "outputId": "060e29d0-c6b3-4545-dac6-acb03fa08ae5"
      },
      "execution_count": 18,
      "outputs": [
        {
          "output_type": "execute_result",
          "data": {
            "text/plain": [
              "array([ True])"
            ]
          },
          "metadata": {},
          "execution_count": 18
        }
      ]
    }
  ]
}